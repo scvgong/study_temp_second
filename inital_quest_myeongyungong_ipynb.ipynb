{
  "nbformat": 4,
  "nbformat_minor": 0,
  "metadata": {
    "colab": {
      "provenance": [],
      "authorship_tag": "ABX9TyMu4Tirk+jImxamzzwSZV1b",
      "include_colab_link": true
    },
    "kernelspec": {
      "name": "python3",
      "display_name": "Python 3"
    },
    "language_info": {
      "name": "python"
    }
  },
  "cells": [
    {
      "cell_type": "markdown",
      "metadata": {
        "id": "view-in-github",
        "colab_type": "text"
      },
      "source": [
        "<a href=\"https://colab.research.google.com/github/scvgong/study_temp_second/blob/main/inital_quest_myeongyungong_ipynb.ipynb\" target=\"_parent\"><img src=\"https://colab.research.google.com/assets/colab-badge.svg\" alt=\"Open In Colab\"/></a>"
      ]
    },
    {
      "cell_type": "code",
      "execution_count": null,
      "metadata": {
        "colab": {
          "base_uri": "https://localhost:8080/"
        },
        "id": "BIee7vEfQPnZ",
        "outputId": "64faff86-c562-43a9-db9d-a46a0b1f2a73"
      },
      "outputs": [
        {
          "output_type": "stream",
          "name": "stdout",
          "text": [
            "28 을 곱셈했음\n",
            "9 을 곱셈했음\n"
          ]
        }
      ],
      "source": [
        "input_first = 4\n",
        "input_second = 7\n",
        "input_third = 3\n",
        "\n",
        "result1 = input_first * input_second\n",
        "result2 = input_third * input_third\n",
        "\n",
        "print(result1, \"을 곱셈했음\")\n",
        "print(result2, \"을 곱셈했음\")\n"
      ]
    }
  ]
}